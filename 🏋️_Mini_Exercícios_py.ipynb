{
  "nbformat": 4,
  "nbformat_minor": 0,
  "metadata": {
    "colab": {
      "provenance": [],
      "toc_visible": true,
      "authorship_tag": "ABX9TyMvtsNgqeS4CQ/HqUUg5sou",
      "include_colab_link": true
    },
    "kernelspec": {
      "name": "python3",
      "display_name": "Python 3"
    },
    "language_info": {
      "name": "python"
    }
  },
  "cells": [
    {
      "cell_type": "markdown",
      "metadata": {
        "id": "view-in-github",
        "colab_type": "text"
      },
      "source": [
        "<a href=\"https://colab.research.google.com/github/NetoVNG/RC-Unidade-1/blob/main/%F0%9F%8F%8B%EF%B8%8F_Mini_Exerc%C3%ADcios_py.ipynb\" target=\"_parent\"><img src=\"https://colab.research.google.com/assets/colab-badge.svg\" alt=\"Open In Colab\"/></a>"
      ]
    },
    {
      "cell_type": "markdown",
      "source": [
        "# **Quadrado de um número**\n",
        "## leia n, mostre n².\n",
        "---\n",
        "Como funciona o algoritmo, passo a passo:\n",
        "\n",
        "1. input() pede que digite um número e retorna como texto (string).\n",
        "2. int(...) converte a string para um número inteiro.\n",
        "3. n * n faz a multiplicação de n por ele mesmo, o quadrado.\n",
        "4. print(...) mostra o resultado na tela.\n",
        "\n",
        "\n"
      ],
      "metadata": {
        "id": "jYFMg0927yY-"
      }
    },
    {
      "cell_type": "code",
      "execution_count": 7,
      "metadata": {
        "id": "lopyR66y7MUK",
        "colab": {
          "base_uri": "https://localhost:8080/"
        },
        "outputId": "a070b798-d8f2-49dc-d27e-82bc036bb5a4"
      },
      "outputs": [
        {
          "output_type": "stream",
          "name": "stdout",
          "text": [
            "Digite um número: 6487\n",
            "O quadrado do nº é  6487 é 42081169\n"
          ]
        }
      ],
      "source": [
        "# Lê um número inteiro do usuário\n",
        "n = int(input(\"Digite um número: \"))\n",
        "\n",
        "# Calcula o quadrado e exibe\n",
        "print(\"O quadrado do nº é \", n, \"é\", n * n)\n",
        "\n"
      ]
    },
    {
      "cell_type": "markdown",
      "source": [
        "# **Soma de dois números**\n",
        "## peça a e b, exiba a+b.\n",
        "---\n",
        "Como funciona o algoritmo, passo a passo:\n",
        "\n",
        "1.  input() lê o número digitado (string).\n",
        "2.  int(...) converte essa string em número inteiro.\n",
        "3.  a + b faz a soma dos dois valores.\n",
        "4.  print(...) mostra o resultado na tela."
      ],
      "metadata": {
        "id": "K3dJDDar9qBi"
      }
    },
    {
      "cell_type": "code",
      "source": [
        "# Lê dois números inteiros do usuário\n",
        "a = int(input(\"Digite o valor de a: \"))\n",
        "b = int(input(\"Digite o valor de b: \"))\n",
        "\n",
        "# Calcula a soma e exibe\n",
        "print(\"A soma de\", a, \"mais\", b, \"é\", a + b)\n"
      ],
      "metadata": {
        "colab": {
          "base_uri": "https://localhost:8080/"
        },
        "id": "MW_kLqZj82gU",
        "outputId": "3a2668a6-5a9d-4e68-c273-010ea3e58d26"
      },
      "execution_count": 6,
      "outputs": [
        {
          "output_type": "stream",
          "name": "stdout",
          "text": [
            "Digite o valor de a: 8468\n",
            "Digite o valor de b: 7982\n",
            "A soma de 8468 mais 7982 é 16450\n"
          ]
        }
      ]
    },
    {
      "cell_type": "code",
      "source": [],
      "metadata": {
        "id": "lH3TOkkz9oQ1"
      },
      "execution_count": null,
      "outputs": []
    },
    {
      "cell_type": "markdown",
      "source": [
        "# **Idade em 2023**\n",
        "## ano de nascimento ➜ idade.\n",
        "----\n",
        "\n",
        "Como funciona o algoritmo, passo a passo:\n",
        "\n",
        "1. input() lê o texto que digitado.\n",
        "\n",
        "2. int(...) converte esse texto em inteiro.\n",
        "\n",
        "3. 2023 - ano_nasc subtrai o ano de nascimento de 2023, dando a idade.\n",
        "\n",
        "4. print(...) mostra o resultado na tela."
      ],
      "metadata": {
        "id": "vMnUXMBQ_LRP"
      }
    },
    {
      "cell_type": "code",
      "source": [
        "# Lê o ano de nascimento\n",
        "ano_nasc = int(input(\"Digite o ano que você nasceu: \"))\n",
        "\n",
        "# Calcula a idade em 2023\n",
        "idade = 2023 - ano_nasc\n",
        "\n",
        "# Exibe o resultado\n",
        "print(\"Em 2023 sua idade foi\", idade, \"anos.\")\n"
      ],
      "metadata": {
        "colab": {
          "base_uri": "https://localhost:8080/"
        },
        "id": "QO2OEMDr_dOS",
        "outputId": "0eb181f3-bdbe-4a92-d02c-3edddf31f3f0"
      },
      "execution_count": 9,
      "outputs": [
        {
          "output_type": "stream",
          "name": "stdout",
          "text": [
            "Digite o ano que você nasceu: 1983\n",
            "Em 2023 sua idade foi 40 anos.\n"
          ]
        }
      ]
    },
    {
      "cell_type": "markdown",
      "source": [
        "# **Média de disciplina**\n",
        "## leia 4 notas, exiba média.\n",
        "---\n",
        "Como funciona o algoritmo, passo a passo:\n",
        "\n",
        "1. Cada input() lê uma nota como texto.\n",
        "\n",
        "2. float(...) transforma esse texto num número de ponto flutuante **(ex.: 7.5)**.\n",
        "\n",
        "3. Somamos as quatro notas e dividimos por 4 para obter a média.\n",
        "\n",
        "4. print(...) mostra o resultado."
      ],
      "metadata": {
        "id": "ZTlxr_nzDF6F"
      }
    },
    {
      "cell_type": "code",
      "source": [
        "# Lê quatro notas (pode ter casas decimais)\n",
        "n1 = float(input(\"Digite a primeira nota: \"))\n",
        "n2 = float(input(\"Digite a segunda nota: \"))\n",
        "n3 = float(input(\"Digite a terceira nota: \"))\n",
        "n4 = float(input(\"Digite a quarta nota: \"))\n",
        "\n",
        "# Calcula a média e exibe\n",
        "media = (n1 + n2 + n3 + n4) / 4\n",
        "print(\"A sua média é \", media)\n"
      ],
      "metadata": {
        "colab": {
          "base_uri": "https://localhost:8080/"
        },
        "id": "fQ8j0EwIDbAy",
        "outputId": "bc898be3-7a28-493c-c374-7a5ef040aeaf"
      },
      "execution_count": 12,
      "outputs": [
        {
          "output_type": "stream",
          "name": "stdout",
          "text": [
            "Digite a primeira nota: 7.5\n",
            "Digite a segunda nota: 8.5\n",
            "Digite a terceira nota: 8.7\n",
            "Digite a quarta nota: 9.9\n",
            "A sua média é  8.65\n"
          ]
        }
      ]
    },
    {
      "cell_type": "markdown",
      "source": [
        "# **Total da compra**\n",
        "## Preço × Quantidade /  Total com 15 % de desconto\n",
        "---\n",
        "Como funciona o algoritmo, passo a passo:\n",
        "\n",
        "1. float(input(...)) lê o preço (pode ter centavos).\n",
        "\n",
        "2. int(input(...)) lê a quantidade (número inteiro).\n",
        "\n",
        "3. total = preco * quantidade — monta o valor bruto.\n",
        "\n",
        "4. desconto = total * 0.15 — valor do desconto.\n",
        "\n",
        "5. total_com_desconto = total - desconto — valor final.\n",
        "\n",
        "6. print(f\"...{:.2f}\") formata com duas casas decimais.\n",
        "\n"
      ],
      "metadata": {
        "id": "v-pMr92aFAl7"
      }
    },
    {
      "cell_type": "code",
      "source": [
        "# Lê preço e quantidade do usuário\n",
        "preco = float(input(\"Digite o preço unitário: R$ \"))\n",
        "quantidade = int(input(\"Digite a quantidade vendida: \"))\n",
        "\n",
        "# Calcula o total e o total com 15% de desconto\n",
        "total = preco * quantidade\n",
        "desconto = total * 0.15\n",
        "total_com_desconto = total - desconto\n",
        "\n",
        "# Exibe os resultados\n",
        "print(f\"Total sem desconto: R$ {total:.2f}\")\n",
        "print(f\"Total com 15% de desconto: R$ {total_com_desconto:.2f}\")\n"
      ],
      "metadata": {
        "colab": {
          "base_uri": "https://localhost:8080/"
        },
        "id": "YZ4T9siqFebO",
        "outputId": "6165d950-56dd-40a8-b44b-3a7a14cc5a49"
      },
      "execution_count": 14,
      "outputs": [
        {
          "output_type": "stream",
          "name": "stdout",
          "text": [
            "Digite o preço unitário: R$ 7.56\n",
            "Digite a quantidade vendida: 52\n",
            "Total sem desconto: R$ 393.12\n",
            "Total com 15% de desconto: R$ 334.15\n"
          ]
        }
      ]
    }
  ]
}