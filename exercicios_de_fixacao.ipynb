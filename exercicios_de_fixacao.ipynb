{
  "nbformat": 4,
  "nbformat_minor": 0,
  "metadata": {
    "colab": {
      "provenance": [],
      "toc_visible": true,
      "authorship_tag": "ABX9TyPXjuhpmi+zEtG5Ht0CKe3P",
      "include_colab_link": true
    },
    "kernelspec": {
      "name": "python3",
      "display_name": "Python 3"
    },
    "language_info": {
      "name": "python"
    }
  },
  "cells": [
    {
      "cell_type": "markdown",
      "metadata": {
        "id": "view-in-github",
        "colab_type": "text"
      },
      "source": [
        "<a href=\"https://colab.research.google.com/github/NetoVNG/RC-Unidade-1/blob/main/Exerc%C3%ADcios_de_Fixa%C3%A7%C3%A3o.ipynb\" target=\"_parent\"><img src=\"https://colab.research.google.com/assets/colab-badge.svg\" alt=\"Open In Colab\"/></a>"
      ]
    },
    {
      "cell_type": "markdown",
      "source": [
        "Durante a preparação deste material, o autor usou ChatGPT versão o3, GPT 4o,  4o-mini-high   para organização da ideia e criação de códigos. Após usar essa ferramenta, o autor revisou e editou o conteúdo conforme necessário e assumem total responsabilidade pelo conteúdo."
      ],
      "metadata": {
        "id": "VSw-0Z2EQlJQ"
      }
    },
    {
      "cell_type": "markdown",
      "source": [
        "#Exercício 1 – Maior de Idade 🚗🪪\n",
        "👉 Teste rápido:\n",
        "*   Entrada 20 → Pode tirar CNH\n",
        "*   Entrada 16 → Você tem 16 anos. Faltam 2 ano(s) para tirar CNH.\n",
        "*   Entrada não numérica → Por favor, informe um número inteiro para a idade.\n"
      ],
      "metadata": {
        "id": "LSkc-WL9LW-l"
      }
    },
    {
      "cell_type": "markdown",
      "source": [
        "```pseudocode\n",
        "Início\n",
        "  // 1) Entrada\n",
        "  idade_str ← Input(\"Digite sua idade: \")\n",
        "\n",
        "  // 2) Validação de conversão\n",
        "  Se não É_INTEIRO(idade_str) então\n",
        "    Mostrar(\"❌ Por favor, informe um número inteiro para a idade.\")\n",
        "    Pare\n",
        "  FimSe\n",
        "  idade ← CONVERTER_PARA_INTEIRO(idade_str)\n",
        "\n",
        "  // 3) Verificação de elegibilidade para CNH\n",
        "  Se idade ≥ 18 então\n",
        "    Mostrar(\"🎉🚗 Parabéns! Você já pode tirar sua CNH! 🪪\")\n",
        "  Senão\n",
        "    faltam ← 18 − idade\n",
        "    Mostrar(\"🔒 Você tem \" + idade + \" anos. \" +\n",
        "            \"Faltam \" + faltam + \" ano(s) para tirar sua CNH 🚗🪪.\")\n",
        "  FimSe\n",
        "Fim\n"
      ],
      "metadata": {
        "id": "M7cRyc1rS3Z7"
      }
    },
    {
      "cell_type": "code",
      "execution_count": 5,
      "metadata": {
        "colab": {
          "base_uri": "https://localhost:8080/"
        },
        "id": "Fv7EQWfCKixf",
        "outputId": "231fc073-673d-4120-9753-362e08a6290d"
      },
      "outputs": [
        {
          "output_type": "stream",
          "name": "stdout",
          "text": [
            "Digite sua idade: 26\n",
            "🎉🚗 Parabéns! Você já pode tirar sua CNH! 🪪\n"
          ]
        }
      ],
      "source": [
        "\"\"\"\n",
        "Nome: Neto Vasconcellos\n",
        "Curso: Raciocínio Computacional (11100010563_20251_20)\n",
        "Exercício: Maior de idade  🚗🪪\n",
        "\"\"\"\n",
        "\n",
        "def main():\n",
        "    # 1) Entrada 📝\n",
        "    idade_str = input(\"Digite sua idade: \")\n",
        "\n",
        "    # 2) Conversão com validação 🔄\n",
        "    try:\n",
        "        idade = int(idade_str)\n",
        "    except ValueError:\n",
        "        print(\"❌ Por favor, informe um número inteiro para a idade.\")\n",
        "        return\n",
        "\n",
        "    # 3) Verificação de elegibilidade para CNH 🚗\n",
        "    if idade >= 18:\n",
        "        print(\"🎉🚗 Parabéns! Você já pode tirar sua CNH! 🪪\")\n",
        "    else:\n",
        "        faltam = 18 - idade\n",
        "        print(\n",
        "            f\"🔒 Você tem {idade} anos. \"\n",
        "            f\"Faltam {faltam} ano(s) para tirar sua CNH 🚗🪪.\"\n",
        "        )\n",
        "\n",
        "if __name__ == \"__main__\":\n",
        "    main()\n"
      ]
    },
    {
      "cell_type": "markdown",
      "source": [
        "# **Exercício 2 – Nome em Cartão 💳**\n",
        "👉 Teste rápido:\n",
        "*  Entrada com até 20 caracteres → deve mostrar “✅ Nome válido para cartão: …”.\n",
        "*  Entrada com mais de 20 caracteres → deve mostrar alerta para abreviar."
      ],
      "metadata": {
        "id": "9X8Q8iULOHcV"
      }
    },
    {
      "cell_type": "markdown",
      "source": [
        "```pseudocode\n",
        "Início\n",
        "  // 1) Entrada\n",
        "  nome ← Input(\"Digite o nome para o cartão (máx. 20 caracteres): \")\n",
        "\n",
        "  // 2) Verificação de tamanho\n",
        "  Se Comprimento(nome) > 20 Então\n",
        "    Mostrar(\"❗ Nome extenso demais, por favor abrevie para no máximo 20 caracteres.\")\n",
        "  Senão\n",
        "    Mostrar(\"✅ Nome válido para cartão:\", nome)\n",
        "  FimSe\n",
        "Fim\n"
      ],
      "metadata": {
        "id": "BzVJjVvWTHYT"
      }
    },
    {
      "cell_type": "code",
      "source": [
        "\"\"\"\n",
        "Nome: Neto Vasconcellos\n",
        "Curso: Raciocínio Computacional (11100010563_20251_20)\n",
        "Exercício: Nome em Cartão 💳\n",
        "\"\"\"\n",
        "\n",
        "def main():\n",
        "    nome = input(\"Digite o nome para o cartão (máx. 20 caracteres): \").strip()\n",
        "\n",
        "    if len(nome) > 20:\n",
        "        print(\"❗ Nome extenso demais, por favor abrevie para no máximo 20 caracteres.\")\n",
        "    else:\n",
        "        print(f\"✅ Nome válido para cartão: {nome}\")\n",
        "\n",
        "if __name__ == \"__main__\":\n",
        "    main()\n"
      ],
      "metadata": {
        "colab": {
          "base_uri": "https://localhost:8080/"
        },
        "id": "vpErUjJ1PE5H",
        "outputId": "a4bd607d-2508-4beb-f901-8c7abc20e24f"
      },
      "execution_count": 9,
      "outputs": [
        {
          "output_type": "stream",
          "name": "stdout",
          "text": [
            "Digite o nome para o cartão (máx. 20 caracteres): CredSagaz\n",
            "✅ Nome válido para cartão: CredSagaz\n"
          ]
        }
      ]
    },
    {
      "cell_type": "markdown",
      "source": [
        "# **Exercício 3 – Par ou Ímpar 🔢**\n",
        "👉 Teste rápido:\n",
        "*   Entrada 8 → ✅ 🍀 O número 8 é par.\n",
        "*   Entrada 7 → 🔢 🎲 O número 7 é ímpar.\n",
        "*   Entrada não numérica → ❌ Por favor, informe um número inteiro."
      ],
      "metadata": {
        "id": "flke4uHfPaGX"
      }
    },
    {
      "cell_type": "markdown",
      "source": [
        "```pseudocode\n",
        "Início\n",
        "  // 1) Entrada\n",
        "  numero_str ← Input(\"Digite um número inteiro: \")\n",
        "\n",
        "  // 2) Validação de conversão\n",
        "  Se não É_INTEIRO(numero_str) então\n",
        "    Mostrar(\"❌ Por favor, informe um número inteiro.\")\n",
        "    Pare\n",
        "  FimSe\n",
        "  numero ← CONVERTER_PARA_INTEIRO(numero_str)\n",
        "\n",
        "  // 3) Verificação de paridade\n",
        "  Se numero % 2 == 0 então\n",
        "    Mostrar(\"✅ 🍀 O número \" + numero + \" é par.\")\n",
        "  Senão\n",
        "    Mostrar(\"🔢 🎲 O número \" + numero + \" é ímpar.\")\n",
        "  FimSe\n",
        "Fim\n"
      ],
      "metadata": {
        "id": "tU4rpzeJTU_J"
      }
    },
    {
      "cell_type": "code",
      "source": [
        "\"\"\"\n",
        "Nome: Neto Vasconcellos\n",
        "Curso: Raciocínio Computacional (11100010563_20251_20)\n",
        "Exercício: Par ou Ímpar 🔢\n",
        "\"\"\"\n",
        "\n",
        "def main():\n",
        "    # 1) Entrada\n",
        "    numero_str = input(\"Digite um número inteiro: \")\n",
        "\n",
        "    # 2) Conversão com validação\n",
        "    try:\n",
        "        numero = int(numero_str)\n",
        "    except ValueError:\n",
        "        print(\"❌ Por favor, informe um número inteiro.\")\n",
        "        return\n",
        "\n",
        "    # 3) Verificação de paridade\n",
        "    if numero % 2 == 0:\n",
        "        print(f\"✅ 🍀 O número {numero} é par.\")\n",
        "    else:\n",
        "        print(f\"🔢 🎲 O número {numero} é ímpar.\")\n",
        "\n",
        "if __name__ == \"__main__\":\n",
        "    main()\n"
      ],
      "metadata": {
        "colab": {
          "base_uri": "https://localhost:8080/"
        },
        "id": "khbP0SfPPuNg",
        "outputId": "bf1d5e39-3e5b-4d6c-d48a-3c415a475c62"
      },
      "execution_count": 12,
      "outputs": [
        {
          "output_type": "stream",
          "name": "stdout",
          "text": [
            "Digite um número inteiro: 72\n",
            "✅ 🍀 O número 72 é par.\n"
          ]
        }
      ]
    },
    {
      "cell_type": "markdown",
      "source": [
        "# **Exercício 4 – Abono Salarial 💰**\n",
        "👉 Teste rápido:\n",
        "*   Salário 4000 → 🎁 Seu abono de fim de ano é: R$ 600.00\n",
        "\n",
        "*   Salário 7000 → 🎁 Seu abono de fim de ano é: R$ 700.00\n",
        "\n",
        "*    Entrada inválida (ex.: “abc”) → ❌ Por favor, informe um valor numérico válido para o salário.\n"
      ],
      "metadata": {
        "id": "EcfKeqY2P21h"
      }
    },
    {
      "cell_type": "markdown",
      "source": [
        "```pseudocode\n",
        "Início\n",
        "  // 1) Entrada\n",
        "  salario_str ← Input(\"Digite seu salário (R$): \")\n",
        "\n",
        "  // 2) Validação de conversão\n",
        "  Se não É_NUMÉRICO(salario_str) então\n",
        "    Mostrar(\"❌ Por favor, informe um valor numérico válido para o salário.\")\n",
        "    Pare\n",
        "  FimSe\n",
        "  salario ← CONVERTER_PARA_FLOAT(salario_str)\n",
        "\n",
        "  // 3) Cálculo do abono\n",
        "  Se salario < 5000 Então\n",
        "    abono ← salario * 0.15   // 15%\n",
        "  Senão\n",
        "    abono ← salario * 0.10   // 10%\n",
        "  FimSe\n",
        "\n",
        "  // 4) Saída\n",
        "  Mostrar(\"🎁 Seu abono de fim de ano é: R$ \" + FORMATAR(abono, 2) )\n",
        "Fim\n",
        "\n"
      ],
      "metadata": {
        "id": "iaon67ufTxfQ"
      }
    },
    {
      "cell_type": "code",
      "source": [
        "\"\"\"\n",
        "Nome: Neto Vasconcellos\n",
        "Curso: Raciocínio Computacional (11100010563_20251_20)\n",
        "Exercício: Abono Salarial 💰\n",
        "\"\"\"\n",
        "\n",
        "def main():\n",
        "    # 1) Entrada\n",
        "    salario_str = input(\"Digite seu salário (R$): \").strip()\n",
        "\n",
        "    # 2) Conversão com validação\n",
        "    try:\n",
        "        salario = float(salario_str)\n",
        "    except ValueError:\n",
        "        print(\"❌ Por favor, informe um valor numérico válido para o salário.\")\n",
        "        return\n",
        "\n",
        "    # 3) Cálculo do abono\n",
        "    if salario < 5000:\n",
        "        abono = salario * 0.15\n",
        "    else:\n",
        "        abono = salario * 0.10\n",
        "\n",
        "    # 4) Saída\n",
        "    print(f\"🎁 Seu abono de fim de ano é: R$ {abono:.2f}\")\n",
        "\n",
        "if __name__ == \"__main__\":\n",
        "    main()\n"
      ],
      "metadata": {
        "colab": {
          "base_uri": "https://localhost:8080/"
        },
        "id": "F33EKCMYQEmz",
        "outputId": "78abe9fa-ae8a-4c59-e51e-f411bef419a9"
      },
      "execution_count": 13,
      "outputs": [
        {
          "output_type": "stream",
          "name": "stdout",
          "text": [
            "Digite seu salário (R$): 6747\n",
            "🎁 Seu abono de fim de ano é: R$ 674.70\n"
          ]
        }
      ]
    },
    {
      "cell_type": "markdown",
      "source": [
        "# **Exercício 5 – Turno de Trabalho 🌞🌆🌙**\n",
        "Teste rápido:\n",
        "\n",
        "Entrada M ou m → ☀️ Bom dia!\n",
        "\n",
        "Entrada T ou t → 🌆 Boa tarde!\n",
        "\n",
        "Entrada N ou n → 🌙 Boa noite!\n",
        "\n",
        "Qualquer outra entrada → 🚫 Turno inválido! Use M, T ou N."
      ],
      "metadata": {
        "id": "A1_FUIuzQNuF"
      }
    },
    {
      "cell_type": "markdown",
      "source": [
        "```pseudocode\n",
        "Início\n",
        "  // 1) Entrada\n",
        "  turno ← Input(\"Em que turno você trabalha? (M/T/N): \").Maiúsculas().Trim()\n",
        "\n",
        "  // 2) Decisão\n",
        "  Se turno == \"M\" então\n",
        "    Mostrar(\"☀️ Bom dia!\")\n",
        "  Senão se turno == \"T\" então\n",
        "    Mostrar(\"🌆 Boa tarde!\")\n",
        "  Senão se turno == \"N\" então\n",
        "    Mostrar(\"🌙 Boa noite!\")\n",
        "  Senão\n",
        "    Mostrar(\"🚫 Turno inválido! Use M, T ou N.\")\n",
        "  FimSe\n",
        "Fim\n"
      ],
      "metadata": {
        "id": "m8wbUCoAT4kQ"
      }
    },
    {
      "cell_type": "code",
      "source": [
        "\"\"\"\n",
        "Nome: Neto Vasconcellos\n",
        "Curso: Raciocínio Computacional (11100010563_20251_20)\n",
        "Exercício: Turno de Trabalho 🌞🌆🌙\n",
        "\"\"\"\n",
        "\n",
        "def main():\n",
        "    # 1) Entrada\n",
        "    turno = input(\"Em que turno você trabalha? (M/T/N): \").strip().upper()\n",
        "\n",
        "    # 2) Decisão\n",
        "    if turno == \"M\":\n",
        "        print(\"☀️ Bom dia!\")\n",
        "    elif turno == \"T\":\n",
        "        print(\"🌆 Boa tarde!\")\n",
        "    elif turno == \"N\":\n",
        "        print(\"🌙 Boa noite!\")\n",
        "    else:\n",
        "        print(\"🚫 Turno inválido! Use M, T ou N.\")\n",
        "\n",
        "if __name__ == \"__main__\":\n",
        "    main()\n"
      ],
      "metadata": {
        "colab": {
          "base_uri": "https://localhost:8080/"
        },
        "id": "RT6egZIPQcNK",
        "outputId": "9ec18b03-1178-4da1-bfd8-3551c193e386"
      },
      "execution_count": 17,
      "outputs": [
        {
          "output_type": "stream",
          "name": "stdout",
          "text": [
            "Em que turno você trabalha? (M/T/N): N\n",
            "🌙 Boa noite!\n"
          ]
        }
      ]
    },
    {
      "cell_type": "markdown",
      "source": [
        "# **Exercício 6 – Calculadora Básica 🧮**\n",
        "👉 Teste rápido:\n",
        "\n",
        "5 e 3 com + → 5.0 + 3.0 = 8.00\n",
        "\n",
        "10 e 0 com / → ⚠️ Divisão por zero não permitida.\n",
        "\n",
        "Operador inválido → 🚫 Operação inválida. Use +, -, *, / ou %."
      ],
      "metadata": {
        "id": "d4SGtAk1Q_W5"
      }
    },
    {
      "cell_type": "markdown",
      "source": [
        "```pseudocode\n",
        "Início\n",
        "  // 1) Entrada dos números\n",
        "  a_str ← Input(\"Digite o primeiro número: \")\n",
        "  b_str ← Input(\"Digite o segundo número: \")\n",
        "\n",
        "  // 2) Conversão e validação\n",
        "  Se não É_NUMÉRICO(a_str) ou não É_NUMÉRICO(b_str) então\n",
        "    Mostrar(\"❌ Por favor, informe valores numéricos válidos.\")\n",
        "    Pare\n",
        "  FimSe\n",
        "  a ← CONVERTER_PARA_FLOAT(a_str)\n",
        "  b ← CONVERTER_PARA_FLOAT(b_str)\n",
        "\n",
        "  // 3) Entrada da operação\n",
        "  op ← Input(\"Escolha a operação (+, -, *, /, %): \").Trim()\n",
        "\n",
        "  // 4) Cálculo conforme operação\n",
        "  Se op == \"+\" Então\n",
        "    resultado ← a + b\n",
        "  Senão se op == \"-\" Então\n",
        "    resultado ← a - b\n",
        "  Senão se op == \"*\" Então\n",
        "    resultado ← a * b\n",
        "  Senão se op == \"/\" Então\n",
        "    Se b == 0 Então\n",
        "      Mostrar(\"⚠️ Divisão por zero não permitida.\")\n",
        "      Pare\n",
        "    FimSe\n",
        "    resultado ← a / b\n",
        "  Senão se op == \"%\" Então\n",
        "    Se b == 0 Então\n",
        "      Mostrar(\"⚠️ Módulo por zero não permitido.\")\n",
        "      Pare\n",
        "    FimSe\n",
        "    resultado ← a % b\n",
        "  Senão\n",
        "    Mostrar(\"🚫 Operação inválida. Use +, -, *, / ou %.\")\n",
        "    Pare\n",
        "  FimSe\n",
        "\n",
        "  // 5) Saída\n",
        "  Mostrar(a + \" \" + op + \" \" + b + \" = \" + FORMATAR(resultado, 2))\n",
        "Fim\n"
      ],
      "metadata": {
        "id": "qBtMW9AeUKo0"
      }
    },
    {
      "cell_type": "code",
      "source": [
        "\"\"\"\n",
        "Nome: Neto Vasconcellos\n",
        "Curso: Raciocínio Computacional (11100010563_20251_20)\n",
        "Exercício: Calculadora Básica 🧮\n",
        "\"\"\"\n",
        "\n",
        "def main():\n",
        "    # 1) Entrada e validação dos números 📝\n",
        "    try:\n",
        "        a = float(input(\"Digite o primeiro número: \").strip())\n",
        "        b = float(input(\"Digite o segundo número: \").strip())\n",
        "    except ValueError:\n",
        "        print(\"❌ Por favor, informe valores numéricos válidos.\")\n",
        "        return\n",
        "\n",
        "    # 2) Escolha da operação ➕➖✖️➗%\n",
        "    op = input(\"Escolha a operação (+, -, *, /, %): \").strip()\n",
        "\n",
        "    # 3) Processamento da operação\n",
        "    if op == \"+\":\n",
        "        resultado = a + b\n",
        "    elif op == \"-\":\n",
        "        resultado = a - b\n",
        "    elif op == \"*\":\n",
        "        resultado = a * b\n",
        "    elif op == \"/\":\n",
        "        if b == 0:\n",
        "            print(\"⚠️ Divisão por zero não permitida.\")\n",
        "            return\n",
        "        resultado = a / b\n",
        "    elif op == \"%\":\n",
        "        if b == 0:\n",
        "            print(\"⚠️ Módulo por zero não permitido.\")\n",
        "            return\n",
        "        resultado = a % b\n",
        "    else:\n",
        "        print(\"🚫 Operação inválida. Use +, -, *, / ou %.\")\n",
        "        return\n",
        "\n",
        "    # 4) Saída de resultado 🎯\n",
        "    print(f\"{a} {op} {b} = {resultado:.2f}\")\n",
        "\n",
        "if __name__ == \"__main__\":\n",
        "    main()\n"
      ],
      "metadata": {
        "colab": {
          "base_uri": "https://localhost:8080/"
        },
        "id": "keA88-diRJ6M",
        "outputId": "46dd49a6-3a4b-484c-b8fc-ee5182d388a7"
      },
      "execution_count": 18,
      "outputs": [
        {
          "output_type": "stream",
          "name": "stdout",
          "text": [
            "Digite o primeiro número: 79\n",
            "Digite o segundo número: 15\n",
            "Escolha a operação (+, -, *, /, %): %\n",
            "79.0 % 15.0 = 4.00\n"
          ]
        }
      ]
    },
    {
      "cell_type": "markdown",
      "source": [
        "#**Exercício 7 – Tipo de Triângulo 🔺**\n",
        "\n",
        "👉 Teste rápido:\n",
        "\n",
        "Lados 5, 5, 5 → 🔺 Equilátero\n",
        "\n",
        "Lados 5, 5, 3 → 🔷 Isósceles\n",
        "\n",
        "Lados 3, 4, 5 → 🔻 Escaleno\n",
        "\n",
        "Lados 1, 2, 3 → ⚠️ Não forma um triângulo"
      ],
      "metadata": {
        "id": "IA_QBV05RiWB"
      }
    },
    {
      "cell_type": "markdown",
      "source": [
        "```pseudocode\n",
        "Início\n",
        "  // 1) Entrada\n",
        "  lado1 ← CONVERTER_PARA_FLOAT( Input(\"Digite o primeiro lado: \") )\n",
        "  lado2 ← CONVERTER_PARA_FLOAT( Input(\"Digite o segundo lado: \") )\n",
        "  lado3 ← CONVERTER_PARA_FLOAT( Input(\"Digite o terceiro lado: \") )\n",
        "\n",
        "  // 2) Validação de existência de triângulo\n",
        "  Se lado1 + lado2 ≤ lado3 ou\n",
        "     lado1 + lado3 ≤ lado2 ou\n",
        "     lado2 + lado3 ≤ lado1 Então\n",
        "    Mostrar(\"⚠️ Não forma um triângulo.\")\n",
        "    Pare\n",
        "  FimSe\n",
        "\n",
        "  // 3) Classificação\n",
        "  Se lado1 == lado2 e lado2 == lado3 Então\n",
        "    Mostrar(\"🔺 Equilátero: todos os lados iguais.\")\n",
        "  Senão se lado1 == lado2 ou lado1 == lado3 ou lado2 == lado3 Então\n",
        "    Mostrar(\"🔷 Isósceles: dois lados iguais.\")\n",
        "  Senão\n",
        "    Mostrar(\"🔻 Escaleno: todos os lados diferentes.\")\n",
        "  FimSe\n",
        "Fim\n"
      ],
      "metadata": {
        "id": "9v1J0-y1U32m"
      }
    },
    {
      "cell_type": "code",
      "source": [
        "\"\"\"\n",
        "Nome: Neto Vasconcellos\n",
        "Curso: Raciocínio Computacional (11100010563_20251_20)\n",
        "Exercício: Tipo de Triângulo 🔺\n",
        "\"\"\"\n",
        "\n",
        "def main():\n",
        "    try:\n",
        "        # 1) Entrada\n",
        "        a = float(input(\"Digite o primeiro lado: \").strip())\n",
        "        b = float(input(\"Digite o segundo lado: \").strip())\n",
        "        c = float(input(\"Digite o terceiro lado: \").strip())\n",
        "    except ValueError:\n",
        "        print(\"❌ Por favor, insira valores numéricos válidos para os lados.\")\n",
        "        return\n",
        "\n",
        "    # 2) Validação de existência de triângulo\n",
        "    if a + b <= c or a + c <= b or b + c <= a:\n",
        "        print(\"⚠️ Não forma um triângulo.\")\n",
        "        return\n",
        "\n",
        "    # 3) Classificação\n",
        "    if a == b == c:\n",
        "        print(\"🔺 Equilátero: todos os lados iguais.\")\n",
        "    elif a == b or a == c or b == c:\n",
        "        print(\"🔷 Isósceles: dois lados iguais.\")\n",
        "    else:\n",
        "        print(\"🔻 Escaleno: todos os lados diferentes.\")\n",
        "\n",
        "if __name__ == \"__main__\":\n",
        "    main()\n",
        "\n"
      ],
      "metadata": {
        "colab": {
          "base_uri": "https://localhost:8080/"
        },
        "id": "cwqoykGXRs9q",
        "outputId": "a84ebe41-2e47-492a-80f4-6409ea8e4ba9"
      },
      "execution_count": 32,
      "outputs": [
        {
          "output_type": "stream",
          "name": "stdout",
          "text": [
            "Digite o primeiro lado: 12\n",
            "Digite o segundo lado: 12\n",
            "Digite o terceiro lado: 15\n",
            "🔷 Isósceles: dois lados iguais.\n"
          ]
        }
      ]
    },
    {
      "cell_type": "markdown",
      "source": [],
      "metadata": {
        "id": "LUfz1nAgVbFl"
      }
    },
    {
      "cell_type": "markdown",
      "source": [
        "# **Exercício 8 – Notas e Faltas 📝**\n",
        "---\n",
        "## Cenário 1 – Entrada inválida e depois aprovado\n",
        "*   Digite a 1ª nota bimestral (0–10): abc\n",
        "❌ Por favor, informe um valor numérico válido para a nota.\n",
        "*   Digite a 1ª nota bimestral (0–10): 11\n",
        "❌ Nota inválida: deve estar entre 0 e 10. Tente novamente.\n",
        "*   Digite a 1ª nota bimestral (0–10): 8\n",
        "*   Digite a 2ª nota bimestral (0–10): 7.5\n",
        "*   Digite a 3ª nota bimestral (0–10): 9\n",
        "*   Digite a 4ª nota bimestral (0–10): 6\n",
        "*   Digite o número de faltas (0–40): 5\n",
        "✅ Aluno aprovado! Média: 7.13, Frequência: 87.5%\n",
        "---\n",
        "## Cenário 2 – Reprovado por média insuficiente\n",
        "*   Digite a 1ª nota bimestral (0–10): 5\n",
        "*   Digite a 2ª nota bimestral (0–10): 4\n",
        "*   Digite a 3ª nota bimestral (0–10): 6\n",
        "*   Digite a 4ª nota bimestral (0–10): 5.5\n",
        "*   Digite o número de faltas (0–40): 3\n",
        "❌ Reprovado por média insuficiente. Média: 5.63\n",
        "---\n",
        "## Cenário 3 – Reprovado por falta de frequência\n",
        "*   Digite a 1ª nota bimestral (0–10): 9\n",
        "*   Digite a 2ª nota bimestral (0–10): 8\n",
        "*   Digite a 3ª nota bimestral (0–10): 7\n",
        "*   Digite a 4ª nota bimestral (0–10): 8.5\n",
        "*   Digite o número de faltas (0–40): 12\n",
        "❌ Reprovado por falta de frequência. Frequência: 70.0%\n",
        "---\n",
        "## Cenário 4 – Reprovado por média e frequência insuficientes\n",
        "*   Digite a 1ª nota bimestral (0–10): 4\n",
        "*   Digite a 2ª nota bimestral (0–10): 5\n",
        "*   Digite a 3ª nota bimestral (0–10): 3\n",
        "*   Digite a 4ª nota bimestral (0–10): 6\n",
        "*   Digite o número de faltas (0–40): 15\n",
        "❌ Reprovado por média e frequência insuficientes. Média: 4.50, Frequência: 62.5%\n"
      ],
      "metadata": {
        "id": "S4-Clgd0Vca0"
      }
    },
    {
      "cell_type": "markdown",
      "source": [
        "```pseudocode\n",
        "Início\n",
        "  // 1) Entrada das notas\n",
        "  nota1 ← CONVERTER_PARA_FLOAT( Input(\"Digite a 1ª nota bimestral: \") )\n",
        "  nota2 ← CONVERTER_PARA_FLOAT( Input(\"Digite a 2ª nota bimestral: \") )\n",
        "  nota3 ← CONVERTER_PARA_FLOAT( Input(\"Digite a 3ª nota bimestral: \") )\n",
        "  nota4 ← CONVERTER_PARA_FLOAT( Input(\"Digite a 4ª nota bimestral: \") )\n",
        "\n",
        "  // 2) Entrada de faltas\n",
        "  faltas ← CONVERTER_PARA_INTEIRO( Input(\"Digite o número de faltas (max. 40): \") )\n",
        "\n",
        "  // 3) Cálculo da média e da frequência\n",
        "  media ← (nota1 + nota2 + nota3 + nota4) / 4\n",
        "  total_aulas ← 40\n",
        "  aulas_presencas ← total_aulas − faltas\n",
        "  frequencia ← (aulas_presencas / total_aulas) * 100\n",
        "\n",
        "  // 4) Verificação de aprovação\n",
        "  Se media ≥ 7 E frequencia ≥ 75 Então\n",
        "    Mostrar(\"✅ Aluno aprovado! Média: \" + FORMATAR(media,2) +\n",
        "            \", Frequência: \" + FORMATAR(frequencia,1) + \"%\")\n",
        "  Senão Se media < 7 E frequencia ≥ 75 Então\n",
        "    Mostrar(\"❌ Reprovado por média insuficiente. Média: \" + FORMATAR(media,2))\n",
        "  Senão Se media ≥ 7 E frequencia < 75 Então\n",
        "    Mostrar(\"❌ Reprovado por falta de frequência. Frequência: \" + FORMATAR(frequencia,1) + \"%\")\n",
        "  Senão\n",
        "    Mostrar(\"❌ Reprovado por média e frequência insuficientes. \" +\n",
        "            \"Média: \" + FORMATAR(media,2) +\n",
        "            \", Frequência: \" + FORMATAR(frequencia,1) + \"%\")\n",
        "  FimSe\n",
        "Fim\n"
      ],
      "metadata": {
        "id": "Sg-bJI75Vjnl"
      }
    },
    {
      "cell_type": "code",
      "source": [
        "\"\"\"\n",
        "Nome: Neto Vasconcellos\n",
        "Curso: Raciocínio Computacional (11100010563_20251_20)\n",
        "Exercício: Notas e Faltas 📝 (entrada com correção)\n",
        "\"\"\"\n",
        "\n",
        "def main():\n",
        "    notas = []\n",
        "    # 1) Entrada e validação das 4 notas\n",
        "    for i in range(1, 5):\n",
        "        while True:\n",
        "            entrada = input(f\"Digite a {i}ª nota bimestral (0–10): \").strip()\n",
        "            try:\n",
        "                nota = float(entrada)\n",
        "                if 0 <= nota <= 10:\n",
        "                    notas.append(nota)\n",
        "                    break\n",
        "                else:\n",
        "                    print(\"❌ Nota inválida: deve estar entre 0 e 10. Tente novamente.\")\n",
        "            except ValueError:\n",
        "                print(\"❌ Por favor, informe um valor numérico válido para a nota.\")\n",
        "\n",
        "    # 2) Entrada e validação das faltas\n",
        "    while True:\n",
        "        entrada = input(\"Digite o número de faltas (0–40): \").strip()\n",
        "        try:\n",
        "            faltas = int(entrada)\n",
        "            if 0 <= faltas <= 40:\n",
        "                break\n",
        "            else:\n",
        "                print(\"❌ Valor de faltas inválido: deve estar entre 0 e 40. Tente novamente.\")\n",
        "        except ValueError:\n",
        "            print(\"❌ Por favor, informe um número inteiro válido para as faltas.\")\n",
        "\n",
        "    # 3) Cálculo da média e da frequência\n",
        "    media = sum(notas) / 4\n",
        "    total_aulas = 40\n",
        "    aulas_presencas = total_aulas - faltas\n",
        "    frequencia = (aulas_presencas / total_aulas) * 100\n",
        "\n",
        "    # 4) Verificação de aprovação\n",
        "    if media >= 7 and frequencia >= 75:\n",
        "        print(f\"✅ Aluno aprovado! Média: {media:.2f}, Frequência: {frequencia:.1f}%\")\n",
        "    elif media < 7 and frequencia >= 75:\n",
        "        print(f\"❌ Reprovado por média insuficiente. Média: {media:.2f}\")\n",
        "    elif media >= 7 and frequencia < 75:\n",
        "        print(f\"❌ Reprovado por falta de frequência. Frequência: {frequencia:.1f}%\")\n",
        "    else:\n",
        "        print(\n",
        "            f\"❌ Reprovado por média e frequência insuficientes. \"\n",
        "            f\"Média: {media:.2f}, Frequência: {frequencia:.1f}%\"\n",
        "        )\n",
        "\n",
        "if __name__ == \"__main__\":\n",
        "    main()\n"
      ],
      "metadata": {
        "colab": {
          "base_uri": "https://localhost:8080/"
        },
        "id": "sYUA31TfV2Cq",
        "outputId": "68b4d955-e5e7-48ad-a4e2-f16335b4cbbc"
      },
      "execution_count": 30,
      "outputs": [
        {
          "output_type": "stream",
          "name": "stdout",
          "text": [
            "Digite a 1ª nota bimestral (0–10): 15\n",
            "❌ Nota inválida: deve estar entre 0 e 10. Tente novamente.\n",
            "Digite a 1ª nota bimestral (0–10): 1,2\n",
            "❌ Por favor, informe um valor numérico válido para a nota.\n",
            "Digite a 1ª nota bimestral (0–10): 1.2\n",
            "Digite a 2ª nota bimestral (0–10): 10\n",
            "Digite a 3ª nota bimestral (0–10): 12\n",
            "❌ Nota inválida: deve estar entre 0 e 10. Tente novamente.\n",
            "Digite a 3ª nota bimestral (0–10): 9\n",
            "Digite a 4ª nota bimestral (0–10): 7\n",
            "Digite o número de faltas (0–40): 1\n",
            "❌ Reprovado por média insuficiente. Média: 6.80\n"
          ]
        }
      ]
    },
    {
      "cell_type": "markdown",
      "source": [
        "# **Exercício 9 – Caixa Eletrônico 🏧**\n",
        "👉 Teste rápido:\n",
        "*   Saque 30 → R$ (1 × 10, 4 ×  5,0) e etc.\n",
        "\n",
        "*   Saque 637 → erro de limite.\n",
        "\n",
        "*   Saque abc → pede valor inteiro."
      ],
      "metadata": {
        "id": "WhAK6FN8WgZR"
      }
    },
    {
      "cell_type": "markdown",
      "source": [
        "```pseudocodeInício\n",
        "  // 1) Ler valor de saque com validação\n",
        "  Enquanto verdadeiro Faça\n",
        "    saque_str ← Input(\"Digite o valor do saque (R$10–R$600): \")\n",
        "    Se não É_INTEIRO(saque_str) Então\n",
        "      Mostrar(\"❌ Informe um valor inteiro válido.\")\n",
        "      Continue\n",
        "    FimSe\n",
        "    saque ← CONVERTER_PARA_INTEIRO(saque_str)\n",
        "    Se saque < 10 ou saque > 600 Então\n",
        "      Mostrar(\"❌ Valor inválido! Mínimo R$10 e máximo R$600.\")\n",
        "      Continue\n",
        "    FimSe\n",
        "    Pare  // valor aceito\n",
        "  FimEnquanto\n",
        "\n",
        "  // 2) Distribuição de notas\n",
        "  restantes ← saque\n",
        "  Para cada nota em [100, 50, 10, 5, 1] Faça\n",
        "    quantidade ← restantes DIV nota\n",
        "    restantes ← restantes MOD nota\n",
        "    Armazenar quantidade para essa nota\n",
        "  FimPara\n",
        "\n",
        "  // 3) Exibir resultado\n",
        "  Mostrar(\"🏧 Distribuição de notas para saque de R$\" + saque + \":\")\n",
        "  Para cada nota, quantidade armazenada Faça\n",
        "    Se quantidade > 0 Então\n",
        "      Mostrar(\"💵 R$\" + nota + \": \" + quantidade + \" nota(s)\")\n",
        "    FimSe\n",
        "  FimPara\n",
        "Fim\n"
      ],
      "metadata": {
        "id": "VphbQlp7Yqd1"
      }
    },
    {
      "cell_type": "code",
      "source": [
        "\"\"\"\n",
        "Nome: Neto Vasconcellos\n",
        "Curso: Raciocínio Computacional (11100010563_20251_20)\n",
        "Exercício: Caixa Eletrônico 🏧\n",
        "\"\"\"\n",
        "\n",
        "def main():\n",
        "    # 1) Entrada e validação do saque\n",
        "    while True:\n",
        "        saque_str = input(\"Digite o valor do saque (R$10–R$600): \").strip()\n",
        "        try:\n",
        "            saque = int(saque_str)\n",
        "        except ValueError:\n",
        "            print(\"❌ Informe um valor inteiro válido.\")\n",
        "            continue\n",
        "        if saque < 10 or saque > 600:\n",
        "            print(\"❌ Valor inválido! Mínimo R$10 e máximo R$600.\")\n",
        "            continue\n",
        "        break\n",
        "\n",
        "    # 2) Cálculo da distribuição de notas\n",
        "    restantes = saque\n",
        "    notas = [100, 50, 10, 5, 1]\n",
        "    distribuicao = {}\n",
        "    for nota in notas:\n",
        "        qtd = restantes // nota\n",
        "        distribuicao[nota] = qtd\n",
        "        restantes %= nota\n",
        "\n",
        "    # 3) Exibição do resultado\n",
        "    print(f\"\\n🏧 Saque de R${saque:.2f} autorizado! Distribuição de notas:\")\n",
        "    for nota in notas:\n",
        "        qtd = distribuicao[nota]\n",
        "        if qtd > 0:\n",
        "            print(f\"💵 R${nota}: {qtd} nota(s)\")\n",
        "\n",
        "if __name__ == \"__main__\":\n",
        "    main()\n"
      ],
      "metadata": {
        "colab": {
          "base_uri": "https://localhost:8080/"
        },
        "id": "8uRK3Bx5Yol8",
        "outputId": "12748a88-c1e8-4d9b-b745-fd06fff2a34a"
      },
      "execution_count": 31,
      "outputs": [
        {
          "output_type": "stream",
          "name": "stdout",
          "text": [
            "Digite o valor do saque (R$10–R$600): 50\n",
            "\n",
            "🏧 Saque de R$50.00 autorizado! Distribuição de notas:\n",
            "💵 R$50: 1 nota(s)\n"
          ]
        }
      ]
    }
  ]
}
